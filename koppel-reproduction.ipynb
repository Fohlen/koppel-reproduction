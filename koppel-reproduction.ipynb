{
 "cells": [
  {
   "cell_type": "markdown",
   "metadata": {
    "collapsed": true,
    "pycharm": {
     "name": "#%% md\n"
    }
   },
   "source": [
    "This reproduction study prerequisites that you have obtained a copy of the [ETC Corpus of Non-Native and Written English](https://catalog.ldc.upenn.edu/LDC2014T06).\n",
    "Proceed to download and set up dependencies by running `pip3 install -r requirements.txt`.\n",
    "Then execute this notebook."
   ]
  },
  {
   "cell_type": "code",
   "execution_count": 8,
   "metadata": {
    "pycharm": {
     "name": "#%%\n"
    }
   },
   "outputs": [
    {
     "name": "stderr",
     "output_type": "stream",
     "text": [
      "[nltk_data] Downloading package punkt to /home/fohlen/nltk_data...\n",
      "[nltk_data]   Package punkt is already up-to-date!\n",
      "[nltk_data] Downloading package averaged_perceptron_tagger to\n",
      "[nltk_data]     /home/fohlen/nltk_data...\n",
      "[nltk_data]   Package averaged_perceptron_tagger is already up-to-\n",
      "[nltk_data]       date!\n"
     ]
    }
   ],
   "source": [
    "TOEFL11_SCRIPT_PATH = 'toefl11.py'\n",
    "DATA_DIR = \"/home/fohlen/Documents/Bachelor/Data/ETS_Corpus_of_Non-Native_Written_English_LDC2014T06/ETS_Corpus_of_Non-Native_Written_English/data/text\"\n",
    "\n",
    "import requests\n",
    "import os\n",
    "from nltk import download\n",
    "\n",
    "# NLTK downloads\n",
    "download('punkt')\n",
    "download('averaged_perceptron_tagger')\n",
    "\n",
    "# Download the onix stopwords corpus (http://www.lextek.com/manuals/onix/stopwords1.html)\n",
    "onix_path = os.path.join(os.getcwd(), 'onix.txt')\n",
    "if not os.path.exists(onix_path):\n",
    "    print(\"Downloading to \" + onix_path)\n",
    "    url = 'https://raw.githubusercontent.com/igorbrigadir/stopwords/master/en/onix.txt'\n",
    "    r = requests.get(url, allow_redirects=True)\n",
    "    with open(onix_path, 'wb') as f:\n",
    "        f.write(r.content)"
   ]
  },
  {
   "cell_type": "markdown",
   "metadata": {},
   "source": [
    "Load datasets and vectorize test and training data."
   ]
  },
  {
   "cell_type": "code",
   "execution_count": 9,
   "metadata": {
    "pycharm": {
     "name": "#%%\n"
    }
   },
   "outputs": [
    {
     "name": "stderr",
     "output_type": "stream",
     "text": [
      "Using custom data configuration default-0d2e219b700317ed\n",
      "Reusing dataset toef_l11 (/home/fohlen/.cache/huggingface/datasets/toef_l11/default-0d2e219b700317ed/0.0.0/bdabab2a1366fe9b74e89df1120d27eef5bc909b9c54ce78766eb5b7345f8d85)\n",
      "Using custom data configuration default-39065f4257a44a0b\n",
      "Reusing dataset text (/home/fohlen/.cache/huggingface/datasets/text/default-39065f4257a44a0b/0.0.0/e16f44aa1b321ece1f87b07977cc5d70be93d69b20486d6dacd62e12cf25c9a5)\n"
     ]
    }
   ],
   "source": [
    "from KoppelVectorizer import KoppelVectorizer\n",
    "from datasets import load_dataset\n",
    "from sklearn.model_selection import train_test_split\n",
    "import numpy as np\n",
    "\n",
    "# The actual training dataset is broken in the LDC which is why we fall back to a random split\n",
    "# It would be better to create a dedicated development set\n",
    "development = load_dataset(TOEFL11_SCRIPT_PATH,\n",
    "    data_dir=DATA_DIR,\n",
    "    split='train[:10%]'\n",
    ")\n",
    "\n",
    "vectorizer = KoppelVectorizer()\n",
    "X_dev_train, X_dev_test, y_train, y_test = train_test_split(development[\"Text\"], development[\"Language\"], test_size=0.33, random_state=42)\n",
    "labels = list(set(development[\"Language\"]))\n",
    "X_train = vectorizer.fit_transform(X_dev_train)\n",
    "y_train = np.array([labels.index(language) for language in y_train])\n",
    "X_test = vectorizer.transform(X_dev_test)\n",
    "y_test = np.array([labels.index(language) for language in y_test])"
   ]
  },
  {
   "cell_type": "markdown",
   "metadata": {},
   "source": [
    "Train a multi-class linear SVM according to Koppel et al.\n",
    "Optionally one could try retraining for different feature sets (see KoppelVectorizer)."
   ]
  },
  {
   "cell_type": "code",
   "execution_count": 10,
   "metadata": {
    "pycharm": {
     "name": "#%%\n"
    }
   },
   "outputs": [
    {
     "name": "stdout",
     "output_type": "stream",
     "text": [
      "# Tuning hyper-parameters for precision\n",
      "\n"
     ]
    },
    {
     "name": "stderr",
     "output_type": "stream",
     "text": [
      "/home/fohlen/Documents/Bachelor/koppel-reproduction/venv/lib/python3.8/site-packages/sklearn/metrics/_classification.py:1248: UndefinedMetricWarning: Precision is ill-defined and being set to 0.0 in labels with no predicted samples. Use `zero_division` parameter to control this behavior.\n",
      "  _warn_prf(average, modifier, msg_start, len(result))\n",
      "/home/fohlen/Documents/Bachelor/koppel-reproduction/venv/lib/python3.8/site-packages/sklearn/metrics/_classification.py:1248: UndefinedMetricWarning: Precision is ill-defined and being set to 0.0 in labels with no predicted samples. Use `zero_division` parameter to control this behavior.\n",
      "  _warn_prf(average, modifier, msg_start, len(result))\n",
      "/home/fohlen/Documents/Bachelor/koppel-reproduction/venv/lib/python3.8/site-packages/sklearn/metrics/_classification.py:1248: UndefinedMetricWarning: Precision is ill-defined and being set to 0.0 in labels with no predicted samples. Use `zero_division` parameter to control this behavior.\n",
      "  _warn_prf(average, modifier, msg_start, len(result))\n",
      "/home/fohlen/Documents/Bachelor/koppel-reproduction/venv/lib/python3.8/site-packages/sklearn/metrics/_classification.py:1248: UndefinedMetricWarning: Precision is ill-defined and being set to 0.0 in labels with no predicted samples. Use `zero_division` parameter to control this behavior.\n",
      "  _warn_prf(average, modifier, msg_start, len(result))\n",
      "/home/fohlen/Documents/Bachelor/koppel-reproduction/venv/lib/python3.8/site-packages/sklearn/metrics/_classification.py:1248: UndefinedMetricWarning: Precision is ill-defined and being set to 0.0 in labels with no predicted samples. Use `zero_division` parameter to control this behavior.\n",
      "  _warn_prf(average, modifier, msg_start, len(result))\n",
      "/home/fohlen/Documents/Bachelor/koppel-reproduction/venv/lib/python3.8/site-packages/sklearn/metrics/_classification.py:1248: UndefinedMetricWarning: Precision is ill-defined and being set to 0.0 in labels with no predicted samples. Use `zero_division` parameter to control this behavior.\n",
      "  _warn_prf(average, modifier, msg_start, len(result))\n",
      "/home/fohlen/Documents/Bachelor/koppel-reproduction/venv/lib/python3.8/site-packages/sklearn/metrics/_classification.py:1248: UndefinedMetricWarning: Precision is ill-defined and being set to 0.0 in labels with no predicted samples. Use `zero_division` parameter to control this behavior.\n",
      "  _warn_prf(average, modifier, msg_start, len(result))\n",
      "/home/fohlen/Documents/Bachelor/koppel-reproduction/venv/lib/python3.8/site-packages/sklearn/metrics/_classification.py:1248: UndefinedMetricWarning: Precision is ill-defined and being set to 0.0 in labels with no predicted samples. Use `zero_division` parameter to control this behavior.\n",
      "  _warn_prf(average, modifier, msg_start, len(result))\n"
     ]
    },
    {
     "name": "stdout",
     "output_type": "stream",
     "text": [
      "Best parameters set found on development set:\n",
      "\n",
      "{'C': 1000, 'kernel': 'rbf'}\n",
      "\n",
      "Grid scores on development set:\n",
      "\n",
      "0.288 (+/-0.090) for {'C': 100, 'kernel': 'rbf'}\n",
      "0.066 (+/-0.213) for {'C': 100, 'kernel': 'poly'}\n",
      "0.331 (+/-0.095) for {'C': 1000, 'kernel': 'rbf'}\n",
      "0.062 (+/-0.197) for {'C': 1000, 'kernel': 'poly'}\n",
      "\n",
      "Detailed classification report:\n",
      "\n",
      "The model is trained on the full development set.\n",
      "The scores are computed on the full evaluation set.\n",
      "\n",
      "              precision    recall  f1-score   support\n",
      "\n",
      "           0       0.34      0.39      0.37        33\n",
      "           1       0.35      0.50      0.41        32\n",
      "           2       0.30      0.36      0.33        28\n",
      "           3       0.20      0.15      0.17        33\n",
      "           4       0.25      0.30      0.27        27\n",
      "           5       0.48      0.29      0.36        35\n",
      "           6       0.43      0.59      0.50        22\n",
      "           7       0.47      0.42      0.44        36\n",
      "           8       0.29      0.24      0.26        29\n",
      "           9       0.31      0.18      0.23        28\n",
      "          10       0.30      0.38      0.33        24\n",
      "\n",
      "    accuracy                           0.34       327\n",
      "   macro avg       0.34      0.34      0.33       327\n",
      "weighted avg       0.34      0.34      0.33       327\n",
      "\n",
      "\n",
      "# Tuning hyper-parameters for recall\n",
      "\n",
      "Best parameters set found on development set:\n",
      "\n",
      "{'C': 1000, 'kernel': 'rbf'}\n",
      "\n",
      "Grid scores on development set:\n",
      "\n",
      "0.263 (+/-0.025) for {'C': 100, 'kernel': 'rbf'}\n",
      "0.131 (+/-0.162) for {'C': 100, 'kernel': 'poly'}\n",
      "0.319 (+/-0.076) for {'C': 1000, 'kernel': 'rbf'}\n",
      "0.127 (+/-0.145) for {'C': 1000, 'kernel': 'poly'}\n",
      "\n",
      "Detailed classification report:\n",
      "\n",
      "The model is trained on the full development set.\n",
      "The scores are computed on the full evaluation set.\n",
      "\n",
      "              precision    recall  f1-score   support\n",
      "\n",
      "           0       0.34      0.39      0.37        33\n",
      "           1       0.35      0.50      0.41        32\n",
      "           2       0.30      0.36      0.33        28\n",
      "           3       0.20      0.15      0.17        33\n",
      "           4       0.25      0.30      0.27        27\n",
      "           5       0.48      0.29      0.36        35\n",
      "           6       0.43      0.59      0.50        22\n",
      "           7       0.47      0.42      0.44        36\n",
      "           8       0.29      0.24      0.26        29\n",
      "           9       0.31      0.18      0.23        28\n",
      "          10       0.30      0.38      0.33        24\n",
      "\n",
      "    accuracy                           0.34       327\n",
      "   macro avg       0.34      0.34      0.33       327\n",
      "weighted avg       0.34      0.34      0.33       327\n",
      "\n",
      "\n"
     ]
    }
   ],
   "source": [
    "from sklearn.model_selection import GridSearchCV\n",
    "from sklearn.metrics import classification_report\n",
    "from sklearn.svm import SVC\n",
    "\n",
    "tuned_parameters = [\n",
    "    {'kernel': ['rbf', 'poly'], 'C': [100, 1000]},\n",
    "]\n",
    "\n",
    "scores = ['precision', 'recall']\n",
    "\n",
    "for score in scores:\n",
    "    print(\"# Tuning hyper-parameters for %s\" % score)\n",
    "    print()\n",
    "\n",
    "    clf = GridSearchCV(\n",
    "        SVC(), tuned_parameters, scoring='%s_macro' % score\n",
    "    )\n",
    "    clf.fit(X_train, y_train)\n",
    "\n",
    "    print(\"Best parameters set found on development set:\")\n",
    "    print()\n",
    "    print(clf.best_params_)\n",
    "    print()\n",
    "    print(\"Grid scores on development set:\")\n",
    "    print()\n",
    "    means = clf.cv_results_['mean_test_score']\n",
    "    stds = clf.cv_results_['std_test_score']\n",
    "    for mean, std, params in zip(means, stds, clf.cv_results_['params']):\n",
    "        print(\"%0.3f (+/-%0.03f) for %r\"\n",
    "              % (mean, std * 2, params))\n",
    "    print()\n",
    "\n",
    "    print(\"Detailed classification report:\")\n",
    "    print()\n",
    "    print(\"The model is trained on the full development set.\")\n",
    "    print(\"The scores are computed on the full evaluation set.\")\n",
    "    print()\n",
    "    y_true, y_pred = y_test, clf.predict(X_test)\n",
    "    print(classification_report(y_true, y_pred))\n",
    "    print()"
   ]
  },
  {
   "cell_type": "markdown",
   "metadata": {},
   "source": [
    "Check which features are contributing to the accuracy:"
   ]
  },
  {
   "cell_type": "code",
   "execution_count": 24,
   "metadata": {},
   "outputs": [
    {
     "name": "stdout",
     "output_type": "stream",
     "text": [
      "('stopwords',)\n",
      "('trigrams',)\n",
      "('bigrams',)\n",
      "('rare_pos_tags',)\n",
      "('stopwords', 'trigrams')\n",
      "('stopwords', 'bigrams')\n",
      "('stopwords', 'rare_pos_tags')\n",
      "('trigrams', 'bigrams')\n",
      "('trigrams', 'rare_pos_tags')\n",
      "('bigrams', 'rare_pos_tags')\n",
      "('stopwords', 'trigrams', 'bigrams')\n",
      "('stopwords', 'trigrams', 'rare_pos_tags')\n",
      "('stopwords', 'bigrams', 'rare_pos_tags')\n",
      "('trigrams', 'bigrams', 'rare_pos_tags')\n",
      "('stopwords', 'trigrams', 'bigrams', 'rare_pos_tags')\n"
     ]
    },
    {
     "data": {
      "image/png": "[encoded data removed]",
      "text/plain": [
       "<Figure size 432x288 with 1 Axes>"
      ]
     },
     "metadata": {
      "needs_background": "light"
     },
     "output_type": "display_data"
    }
   ],
   "source": [
    "from itertools import chain, combinations\n",
    "from sklearn.metrics import accuracy_score\n",
    "import matplotlib.pyplot as plt\n",
    "\n",
    "def powerset(iterable):\n",
    "    \"\"\"\n",
    "    powerset([1,2,3]) --> () (1,) (2,) (3,) (1,2) (1,3) (2,3) (1,2,3)\n",
    "    \"\"\"\n",
    "    xs = list(iterable)\n",
    "    # note we return an iterator rather than a list\n",
    "    return chain.from_iterable(combinations(xs,n) for n in range(len(xs)+1))\n",
    "\n",
    "features = ['stopwords', 'trigrams', 'bigrams', 'rare_pos_tags']\n",
    "feature_combinations = list(powerset(features))[1:]\n",
    "feature_scores = []\n",
    "\n",
    "for combination in feature_combinations:\n",
    "    print(combination)\n",
    "    vectorizer.features = list(combination)\n",
    "    X_train, X_test = vectorizer.transform(X_dev_train), vectorizer.transform(X_dev_test)\n",
    "    clf = SVC(kernel='rbf', C=1000)\n",
    "    clf.fit(X_train, y_train)\n",
    "    y_predict = clf.predict(X_test)\n",
    "    feature_scores.append(accuracy_score(y_predict, y_test))\n",
    "\n",
    "def combination_to_str(combination):\n",
    "    return \",\".join([s[0] for s in combination])\n",
    "\n",
    "fig = plt.figure()\n",
    "ax = fig.add_axes([0,0,1,1])\n",
    "\n",
    "ax.bar([combination_to_str(combination) for combination in feature_combinations], feature_scores)\n",
    "plt.title(\"Feature importance\")\n",
    "plt.xlabel(\"s - stopwords; t - trigrams; b - bigrams; r - Rare POS tag\")\n",
    "plt.show()"
   ]
  },
  {
   "cell_type": "markdown",
   "metadata": {},
   "source": [
    "Perform 10 fold cross-validation as described in Koppel et al."
   ]
  },
  {
   "cell_type": "code",
   "execution_count": 25,
   "metadata": {
    "pycharm": {
     "name": "#%%\n"
    }
   },
   "outputs": [
    {
     "name": "stderr",
     "output_type": "stream",
     "text": [
      "Using custom data configuration default-0d2e219b700317ed\n",
      "Reusing dataset toef_l11 (/home/fohlen/.cache/huggingface/datasets/toef_l11/default-0d2e219b700317ed/0.0.0/bdabab2a1366fe9b74e89df1120d27eef5bc909b9c54ce78766eb5b7345f8d85)\n",
      "Using custom data configuration default-0d2e219b700317ed\n",
      "Reusing dataset toef_l11 (/home/fohlen/.cache/huggingface/datasets/toef_l11/default-0d2e219b700317ed/0.0.0/bdabab2a1366fe9b74e89df1120d27eef5bc909b9c54ce78766eb5b7345f8d85)\n"
     ]
    }
   ],
   "source": [
    "from statistics import mean\n",
    "\n",
    "vals_ds = load_dataset(TOEFL11_SCRIPT_PATH,\n",
    "    data_dir=DATA_DIR,\n",
    "    split=[\n",
    "        f'validation[{k}%:{k+10}%]' for k in range(0, 100, 10)\n",
    "    ]\n",
    ")\n",
    "trains_ds = load_dataset(TOEFL11_SCRIPT_PATH,\n",
    "    data_dir=DATA_DIR,\n",
    "    split=[\n",
    "        f'train[:{k}%]+train[{k+10}%:]' for k in range(0, 100, 10)\n",
    "    ]\n",
    ")\n",
    "\n",
    "folding_scores = []\n",
    "max_model = None\n",
    "\n",
    "for val_ds, train_ds in zip(vals_ds, trains_ds):\n",
    "    X_train, X_test = vectorizer.transform(train_ds[\"Text\"]), vectorizer.transform(val_ds[\"Text\"])\n",
    "    y_train, y_test = np.array([labels.index(language) for language in train_ds[\"Language\"]]), np.array([labels.index(language) for language in val_ds[\"Language\"]])\n",
    "    model = SVC(kernel='rbf', C=1000)\n",
    "    model.fit(X_train, y_train)\n",
    "    y_predict = model.predict(X_test)\n",
    "    score = accuracy_score(y_test, y_predict)\n",
    "    if score > max(folding_scores, default=0):\n",
    "        max_model = model\n",
    "    folding_scores.append(score)"
   ]
  },
  {
   "cell_type": "markdown",
   "metadata": {},
   "source": [
    "Evaluate feature matrix for optimum model:"
   ]
  },
  {
   "cell_type": "code",
   "execution_count": 26,
   "metadata": {},
   "outputs": [
    {
     "name": "stdout",
     "output_type": "stream",
     "text": [
      "Maximum model accuracy: 0.6363636363636364 mean model accuracy: 0.5772727272727273\n",
      "\n",
      "              precision    recall  f1-score   support\n",
      "\n",
      "           0       0.38      0.56      0.45         9\n",
      "           1       0.62      0.77      0.69        13\n",
      "           2       0.75      0.43      0.55        14\n",
      "           3       0.60      0.50      0.55        12\n",
      "           4       0.31      0.44      0.36         9\n",
      "           5       0.73      0.73      0.73        11\n",
      "           6       0.62      0.71      0.67         7\n",
      "           7       0.64      0.54      0.58        13\n",
      "           8       0.43      0.43      0.43         7\n",
      "           9       0.57      0.40      0.47        10\n",
      "          10       0.50      0.60      0.55         5\n",
      "\n",
      "    accuracy                           0.55       110\n",
      "   macro avg       0.56      0.56      0.55       110\n",
      "weighted avg       0.58      0.55      0.56       110\n",
      "\n",
      "\n"
     ]
    },
    {
     "data": {
      "text/plain": [
       "<sklearn.metrics._plot.confusion_matrix.ConfusionMatrixDisplay at 0x7fa01409cf10>"
      ]
     },
     "execution_count": 26,
     "metadata": {},
     "output_type": "execute_result"
    },
    {
     "data": {
      "image/png": "[encoded data removed]",
      "text/plain": [
       "<Figure size 432x288 with 2 Axes>"
      ]
     },
     "metadata": {
      "needs_background": "light"
     },
     "output_type": "display_data"
    }
   ],
   "source": [
    "from statistics import mean\n",
    "import matplotlib.pyplot as plt\n",
    "from sklearn.metrics import plot_confusion_matrix\n",
    "\n",
    "print(\"Maximum model accuracy: %s mean model accuracy: %s\" % (max(folding_scores), mean(folding_scores)))\n",
    "print()\n",
    "y_pred = max_model.predict(X_test)\n",
    "print(classification_report(y_test, y_pred))\n",
    "print()\n",
    "\n",
    "plot_confusion_matrix(max_model, X_test, y_test, display_labels=labels)"
   ]
  }
 ],
 "metadata": {
  "kernelspec": {
   "display_name": "Python 3",
   "language": "python",
   "name": "python3"
  },
  "language_info": {
   "codemirror_mode": {
    "name": "ipython",
    "version": 3
   },
   "file_extension": ".py",
   "mimetype": "text/x-python",
   "name": "python",
   "nbconvert_exporter": "python",
   "pygments_lexer": "ipython3",
   "version": "3.8.5"
  }
 },
 "nbformat": 4,
 "nbformat_minor": 1
}
