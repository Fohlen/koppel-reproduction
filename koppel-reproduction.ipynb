{
 "cells": [
  {
   "cell_type": "markdown",
   "metadata": {
    "collapsed": true,
    "pycharm": {
     "name": "#%% md\n"
    }
   },
   "source": [
    "This reproduction study prerequisites that you have obtained a copy of the [ETC Corpus of Non-Native and Written English](https://catalog.ldc.upenn.edu/LDC2014T06).\n",
    "Proceed to download and set up dependencies by running `pip3 install -r requirements.txt`.\n",
    "Then execute this notebook. If you want to use the `annotation` feature you need to download the annotations [from GitHub](https://github.com/Fohlen/toefl11-languagetool-annotations) and place them into the `responses/annotations` folder."
   ]
  },
  {
   "cell_type": "code",
   "execution_count": 1,
   "metadata": {
    "pycharm": {
     "name": "#%%\n"
    }
   },
   "outputs": [
    {
     "name": "stderr",
     "output_type": "stream",
     "text": [
      "[nltk_data] Downloading package punkt to /home/fohlen/nltk_data...\n",
      "[nltk_data]   Package punkt is already up-to-date!\n",
      "[nltk_data] Downloading package averaged_perceptron_tagger to\n",
      "[nltk_data]     /home/fohlen/nltk_data...\n",
      "[nltk_data]   Package averaged_perceptron_tagger is already up-to-\n",
      "[nltk_data]       date!\n"
     ]
    }
   ],
   "source": [
    "TOEFL11_SCRIPT_PATH = 'toefl11.py'\n",
    "DATA_DIR = \"/home/fohlen/Documents/Bachelor/Data/ETS_Corpus_of_Non-Native_Written_English_LDC2014T06/ETS_Corpus_of_Non-Native_Written_English/data/text\"\n",
    "\n",
    "import requests\n",
    "import os\n",
    "from nltk import download\n",
    "\n",
    "# NLTK downloads\n",
    "download('punkt')\n",
    "download('averaged_perceptron_tagger')\n",
    "\n",
    "# Download the onix stopwords corpus (http://www.lextek.com/manuals/onix/stopwords1.html)\n",
    "onix_path = os.path.join(os.getcwd(), 'onix.txt')\n",
    "if not os.path.exists(onix_path):\n",
    "    print(\"Downloading to \" + onix_path)\n",
    "    url = 'https://raw.githubusercontent.com/igorbrigadir/stopwords/master/en/onix.txt'\n",
    "    r = requests.get(url, allow_redirects=True)\n",
    "    with open(onix_path, 'wb') as f:\n",
    "        f.write(r.content)"
   ]
  },
  {
   "cell_type": "markdown",
   "metadata": {},
   "source": [
    "Load datasets and vectorize test and training data."
   ]
  },
  {
   "cell_type": "code",
   "execution_count": 2,
   "metadata": {
    "pycharm": {
     "name": "#%%\n"
    }
   },
   "outputs": [
    {
     "name": "stderr",
     "output_type": "stream",
     "text": [
      "Using custom data configuration annotated-plain-text-0d2e219b700317ed\n",
      "Reusing dataset toef_l11 (/home/fohlen/.cache/huggingface/datasets/toef_l11/annotated-plain-text-0d2e219b700317ed/1.0.0/b9c961e4f11574a27d305d175682506a660414f7014938666c8b0848b288ed67)\n",
      "Using custom data configuration default-39065f4257a44a0b\n",
      "Reusing dataset text (/home/fohlen/.cache/huggingface/datasets/text/default-39065f4257a44a0b/0.0.0/e16f44aa1b321ece1f87b07977cc5d70be93d69b20486d6dacd62e12cf25c9a5)\n",
      "Using custom data configuration default-cedc0cd0a179dec0\n",
      "Reusing dataset text (/home/fohlen/.cache/huggingface/datasets/text/default-cedc0cd0a179dec0/0.0.0/e16f44aa1b321ece1f87b07977cc5d70be93d69b20486d6dacd62e12cf25c9a5)\n"
     ]
    }
   ],
   "source": [
    "from KoppelVectorizer import KoppelVectorizer\n",
    "from datasets import load_dataset\n",
    "from sklearn.model_selection import train_test_split\n",
    "import numpy as np\n",
    "\n",
    "# The original experiment uses 129 essays for development where we use 5x the amount\n",
    "development = load_dataset(TOEFL11_SCRIPT_PATH,\n",
    "    data_dir=DATA_DIR,\n",
    "    split='train[:5%]',\n",
    "    name=\"annotated-plain-text\"\n",
    ")\n",
    "\n",
    "vectorizer = KoppelVectorizer(features=['stopwords', 'trigrams', 'bigrams', 'rare_pos_tags', 'annotation'])\n",
    "X_dev_train, X_dev_test, \\\n",
    "A_train, A_test, \\\n",
    "y_train, y_test = train_test_split(development[\"Text\"], development[\"Annotation\"], development[\"Language\"], test_size=0.33, random_state=42)\n",
    "labels = list(set(development[\"Language\"]))\n",
    "X_train = vectorizer.fit_transform(X_dev_train, A_train)\n",
    "y_train = np.array([labels.index(language) for language in y_train])\n",
    "X_test = vectorizer.transform(X_dev_test, A_test)\n",
    "y_test = np.array([labels.index(language) for language in y_test])"
   ]
  },
  {
   "cell_type": "markdown",
   "metadata": {},
   "source": [
    "Train a multi-class linear SVM according to Koppel et al.\n",
    "Optionally one could try retraining for different feature sets (see KoppelVectorizer)."
   ]
  },
  {
   "cell_type": "code",
   "execution_count": 3,
   "metadata": {
    "pycharm": {
     "name": "#%%\n"
    }
   },
   "outputs": [
    {
     "name": "stdout",
     "output_type": "stream",
     "text": [
      "# Tuning hyper-parameters for precision\n",
      "\n"
     ]
    },
    {
     "name": "stderr",
     "output_type": "stream",
     "text": [
      "/home/fohlen/Documents/Bachelor/koppel-reproduction/venv/lib/python3.8/site-packages/sklearn/metrics/_classification.py:1248: UndefinedMetricWarning: Precision is ill-defined and being set to 0.0 in labels with no predicted samples. Use `zero_division` parameter to control this behavior.\n",
      "  _warn_prf(average, modifier, msg_start, len(result))\n",
      "/home/fohlen/Documents/Bachelor/koppel-reproduction/venv/lib/python3.8/site-packages/sklearn/metrics/_classification.py:1248: UndefinedMetricWarning: Precision is ill-defined and being set to 0.0 in labels with no predicted samples. Use `zero_division` parameter to control this behavior.\n",
      "  _warn_prf(average, modifier, msg_start, len(result))\n",
      "/home/fohlen/Documents/Bachelor/koppel-reproduction/venv/lib/python3.8/site-packages/sklearn/metrics/_classification.py:1248: UndefinedMetricWarning: Precision is ill-defined and being set to 0.0 in labels with no predicted samples. Use `zero_division` parameter to control this behavior.\n",
      "  _warn_prf(average, modifier, msg_start, len(result))\n"
     ]
    },
    {
     "name": "stdout",
     "output_type": "stream",
     "text": [
      "Best parameters set found on development set:\n",
      "\n",
      "{'C': 1000, 'kernel': 'poly'}\n",
      "\n",
      "Grid scores on development set:\n",
      "\n",
      "0.261 (+/-0.093) for {'C': 100, 'kernel': 'rbf'}\n",
      "0.241 (+/-0.144) for {'C': 100, 'kernel': 'poly'}\n",
      "0.262 (+/-0.097) for {'C': 100, 'kernel': 'linear'}\n",
      "0.261 (+/-0.093) for {'C': 1000, 'kernel': 'rbf'}\n",
      "0.266 (+/-0.163) for {'C': 1000, 'kernel': 'poly'}\n",
      "0.262 (+/-0.097) for {'C': 1000, 'kernel': 'linear'}\n",
      "\n",
      "Detailed classification report:\n",
      "\n",
      "The model is trained on the full development set.\n",
      "The scores are computed on the full evaluation set.\n",
      "\n",
      "              precision    recall  f1-score   support\n",
      "\n",
      "           0       0.33      0.33      0.33        15\n",
      "           1       0.50      0.35      0.41        20\n",
      "           2       0.15      0.43      0.22         7\n",
      "           3       0.23      0.43      0.30        14\n",
      "           4       0.25      0.12      0.16        17\n",
      "           5       0.33      0.38      0.36        21\n",
      "           6       0.11      0.22      0.15         9\n",
      "           7       0.50      0.42      0.45        12\n",
      "           8       0.60      0.18      0.27        17\n",
      "           9       0.07      0.09      0.08        11\n",
      "          10       0.60      0.29      0.39        21\n",
      "\n",
      "    accuracy                           0.29       164\n",
      "   macro avg       0.33      0.29      0.28       164\n",
      "weighted avg       0.37      0.29      0.30       164\n",
      "\n",
      "\n",
      "# Tuning hyper-parameters for recall\n",
      "\n",
      "Best parameters set found on development set:\n",
      "\n",
      "{'C': 100, 'kernel': 'linear'}\n",
      "\n",
      "Grid scores on development set:\n",
      "\n",
      "0.259 (+/-0.087) for {'C': 100, 'kernel': 'rbf'}\n",
      "0.249 (+/-0.108) for {'C': 100, 'kernel': 'poly'}\n",
      "0.268 (+/-0.063) for {'C': 100, 'kernel': 'linear'}\n",
      "0.259 (+/-0.087) for {'C': 1000, 'kernel': 'rbf'}\n",
      "0.246 (+/-0.120) for {'C': 1000, 'kernel': 'poly'}\n",
      "0.268 (+/-0.063) for {'C': 1000, 'kernel': 'linear'}\n",
      "\n",
      "Detailed classification report:\n",
      "\n",
      "The model is trained on the full development set.\n",
      "The scores are computed on the full evaluation set.\n",
      "\n",
      "              precision    recall  f1-score   support\n",
      "\n",
      "           0       0.36      0.33      0.34        15\n",
      "           1       0.38      0.25      0.30        20\n",
      "           2       0.14      0.29      0.19         7\n",
      "           3       0.28      0.36      0.31        14\n",
      "           4       0.42      0.29      0.34        17\n",
      "           5       0.30      0.29      0.29        21\n",
      "           6       0.12      0.22      0.15         9\n",
      "           7       0.33      0.33      0.33        12\n",
      "           8       0.43      0.18      0.25        17\n",
      "           9       0.09      0.18      0.12        11\n",
      "          10       0.29      0.19      0.23        21\n",
      "\n",
      "    accuracy                           0.26       164\n",
      "   macro avg       0.28      0.26      0.26       164\n",
      "weighted avg       0.31      0.26      0.27       164\n",
      "\n",
      "\n"
     ]
    }
   ],
   "source": [
    "from sklearn.model_selection import GridSearchCV\n",
    "from sklearn.metrics import classification_report\n",
    "from sklearn.svm import SVC\n",
    "\n",
    "tuned_parameters = [\n",
    "    {'kernel': ['rbf', 'poly', 'linear'], 'C': [100, 1000]},\n",
    "]\n",
    "\n",
    "scores = ['precision', 'recall']\n",
    "\n",
    "for score in scores:\n",
    "    print(\"# Tuning hyper-parameters for %s\" % score)\n",
    "    print()\n",
    "\n",
    "    clf = GridSearchCV(\n",
    "        SVC(), tuned_parameters, scoring='%s_macro' % score\n",
    "    )\n",
    "    clf.fit(X_train, y_train)\n",
    "\n",
    "    print(\"Best parameters set found on development set:\")\n",
    "    print()\n",
    "    print(clf.best_params_)\n",
    "    print()\n",
    "    print(\"Grid scores on development set:\")\n",
    "    print()\n",
    "    means = clf.cv_results_['mean_test_score']\n",
    "    stds = clf.cv_results_['std_test_score']\n",
    "    for mean, std, params in zip(means, stds, clf.cv_results_['params']):\n",
    "        print(\"%0.3f (+/-%0.03f) for %r\"\n",
    "              % (mean, std * 2, params))\n",
    "    print()\n",
    "\n",
    "    print(\"Detailed classification report:\")\n",
    "    print()\n",
    "    print(\"The model is trained on the full development set.\")\n",
    "    print(\"The scores are computed on the full evaluation set.\")\n",
    "    print()\n",
    "    y_true, y_pred = y_test, clf.predict(X_test)\n",
    "    print(classification_report(y_true, y_pred))\n",
    "    print()"
   ]
  },
  {
   "cell_type": "markdown",
   "metadata": {},
   "source": [
    "Check which features are contributing to the accuracy:"
   ]
  },
  {
   "cell_type": "code",
   "execution_count": 4,
   "metadata": {},
   "outputs": [
    {
     "name": "stdout",
     "output_type": "stream",
     "text": [
      "('stopwords',)\n",
      "('trigrams',)\n",
      "('bigrams',)\n",
      "('rare_pos_tags',)\n",
      "('annotation',)\n",
      "('stopwords', 'trigrams')\n",
      "('stopwords', 'bigrams')\n",
      "('stopwords', 'rare_pos_tags')\n",
      "('stopwords', 'annotation')\n",
      "('trigrams', 'bigrams')\n",
      "('trigrams', 'rare_pos_tags')\n",
      "('trigrams', 'annotation')\n",
      "('bigrams', 'rare_pos_tags')\n",
      "('bigrams', 'annotation')\n",
      "('rare_pos_tags', 'annotation')\n",
      "('stopwords', 'trigrams', 'bigrams')\n",
      "('stopwords', 'trigrams', 'rare_pos_tags')\n",
      "('stopwords', 'trigrams', 'annotation')\n",
      "('stopwords', 'bigrams', 'rare_pos_tags')\n",
      "('stopwords', 'bigrams', 'annotation')\n",
      "('stopwords', 'rare_pos_tags', 'annotation')\n",
      "('trigrams', 'bigrams', 'rare_pos_tags')\n",
      "('trigrams', 'bigrams', 'annotation')\n",
      "('trigrams', 'rare_pos_tags', 'annotation')\n",
      "('bigrams', 'rare_pos_tags', 'annotation')\n",
      "('stopwords', 'trigrams', 'bigrams', 'rare_pos_tags')\n",
      "('stopwords', 'trigrams', 'bigrams', 'annotation')\n",
      "('stopwords', 'trigrams', 'rare_pos_tags', 'annotation')\n",
      "('stopwords', 'bigrams', 'rare_pos_tags', 'annotation')\n",
      "('trigrams', 'bigrams', 'rare_pos_tags', 'annotation')\n",
      "('stopwords', 'trigrams', 'bigrams', 'rare_pos_tags', 'annotation')\n"
     ]
    },
    {
     "data": {
      "image/png": "[encoded data removed]",
      "text/plain": [
       "<Figure size 432x288 with 1 Axes>"
      ]
     },
     "metadata": {
      "needs_background": "light"
     },
     "output_type": "display_data"
    }
   ],
   "source": [
    "from itertools import chain, combinations\n",
    "from sklearn.metrics import accuracy_score\n",
    "import matplotlib.pyplot as plt\n",
    "\n",
    "def powerset(iterable):\n",
    "    \"\"\"\n",
    "    powerset([1,2,3]) --> () (1,) (2,) (3,) (1,2) (1,3) (2,3) (1,2,3)\n",
    "    \"\"\"\n",
    "    xs = list(iterable)\n",
    "    # note we return an iterator rather than a list\n",
    "    return chain.from_iterable(combinations(xs,n) for n in range(len(xs)+1))\n",
    "\n",
    "features = ['stopwords', 'trigrams', 'bigrams', 'rare_pos_tags', 'annotation']\n",
    "feature_combinations = list(powerset(features))[1:]\n",
    "feature_scores = []\n",
    "\n",
    "for combination in feature_combinations:\n",
    "    print(combination)\n",
    "    vectorizer.features = list(combination)\n",
    "    X_train, X_test = vectorizer.transform(X_dev_train, A_train), vectorizer.transform(X_dev_test, A_test)\n",
    "    clf = SVC(kernel='linear', C=100)\n",
    "    clf.fit(X_train, y_train)\n",
    "    y_predict = clf.predict(X_test)\n",
    "    feature_scores.append(accuracy_score(y_predict, y_test))\n",
    "\n",
    "def combination_to_str(combination):\n",
    "    return \",\".join([s[0] for s in combination])\n",
    "\n",
    "fig = plt.figure()\n",
    "ax = fig.add_axes([0,0,2,2])\n",
    "\n",
    "ax.bar([combination_to_str(combination) for combination in feature_combinations], feature_scores)\n",
    "plt.title(\"Feature importance\")\n",
    "plt.xlabel(\"s - stopwords; t - trigrams; b - bigrams; r - Rare POS tag; a - Annotations\")\n",
    "plt.show()"
   ]
  },
  {
   "cell_type": "markdown",
   "metadata": {},
   "source": [
    "Perform 10 fold cross-validation as described in Koppel et al."
   ]
  },
  {
   "cell_type": "code",
   "execution_count": null,
   "metadata": {
    "pycharm": {
     "name": "#%%\n"
    }
   },
   "outputs": [
    {
     "name": "stderr",
     "output_type": "stream",
     "text": [
      "Using custom data configuration plain-text-0d2e219b700317ed\n",
      "Reusing dataset toef_l11 (/home/fohlen/.cache/huggingface/datasets/toef_l11/plain-text-0d2e219b700317ed/1.0.0/b9c961e4f11574a27d305d175682506a660414f7014938666c8b0848b288ed67)\n",
      "Using custom data configuration plain-text-0d2e219b700317ed\n",
      "Reusing dataset toef_l11 (/home/fohlen/.cache/huggingface/datasets/toef_l11/plain-text-0d2e219b700317ed/1.0.0/b9c961e4f11574a27d305d175682506a660414f7014938666c8b0848b288ed67)\n"
     ]
    },
    {
     "name": "stdout",
     "output_type": "stream",
     "text": [
      "0.6363636363636364\n",
      "0.4818181818181818\n",
      "0.4636363636363636\n",
      "0.509090909090909\n",
      "0.509090909090909\n",
      "0.5454545454545454\n",
      "0.5272727272727272\n",
      "0.5818181818181818\n",
      "0.5363636363636364\n"
     ]
    }
   ],
   "source": [
    "vals_ds = load_dataset(TOEFL11_SCRIPT_PATH,\n",
    "    data_dir=DATA_DIR,\n",
    "    split=[\n",
    "        f'validation[{k}%:{k+10}%]' for k in range(0, 100, 10)\n",
    "    ],\n",
    "    name=\"plain-text\"\n",
    ")\n",
    "trains_ds = load_dataset(TOEFL11_SCRIPT_PATH,\n",
    "    data_dir=DATA_DIR,\n",
    "    split=[\n",
    "        f'train[:{k}%]+train[{k+10}%:]' for k in range(0, 100, 10)\n",
    "    ],\n",
    "    name=\"plain-text\"\n",
    ")\n",
    "\n",
    "folding_scores = []\n",
    "max_model = None\n",
    "vectorizer.features = ['stopwords', 'trigrams', 'bigrams']\n",
    "\n",
    "for val_ds, train_ds in zip(vals_ds, trains_ds):\n",
    "    X_train, X_test = vectorizer.transform(train_ds[\"Text\"]), vectorizer.transform(val_ds[\"Text\"])\n",
    "    y_train, y_test = np.array([labels.index(language) for language in train_ds[\"Language\"]]), np.array([labels.index(language) for language in val_ds[\"Language\"]])\n",
    "    model = SVC(kernel='rbf', C=1000)\n",
    "    model.fit(X_train, y_train)\n",
    "    y_predict = model.predict(X_test)\n",
    "    score = accuracy_score(y_test, y_predict)\n",
    "    if score > max(folding_scores, default=0):\n",
    "        max_model = model\n",
    "    print(score)\n",
    "    folding_scores.append(score)"
   ]
  },
  {
   "cell_type": "markdown",
   "metadata": {},
   "source": [
    "Evaluate feature matrix for optimum model:"
   ]
  },
  {
   "cell_type": "code",
   "execution_count": 1,
   "metadata": {},
   "outputs": [
    {
     "ename": "NameError",
     "evalue": "name 'folding_scores' is not defined",
     "output_type": "error",
     "traceback": [
      "\u001b[0;31m---------------------------------------------------------------------------\u001b[0m",
      "\u001b[0;31mNameError\u001b[0m                                 Traceback (most recent call last)",
      "\u001b[0;32m<ipython-input-1-06af2f2af9f7>\u001b[0m in \u001b[0;36m<module>\u001b[0;34m\u001b[0m\n\u001b[1;32m      2\u001b[0m \u001b[0;32mfrom\u001b[0m \u001b[0msklearn\u001b[0m\u001b[0;34m.\u001b[0m\u001b[0mmetrics\u001b[0m \u001b[0;32mimport\u001b[0m \u001b[0mplot_confusion_matrix\u001b[0m\u001b[0;34m\u001b[0m\u001b[0;34m\u001b[0m\u001b[0m\n\u001b[1;32m      3\u001b[0m \u001b[0;34m\u001b[0m\u001b[0m\n\u001b[0;32m----> 4\u001b[0;31m \u001b[0mprint\u001b[0m\u001b[0;34m(\u001b[0m\u001b[0;34m\"Maximum model accuracy: %s mean model accuracy: %s\"\u001b[0m \u001b[0;34m%\u001b[0m \u001b[0;34m(\u001b[0m\u001b[0mmax\u001b[0m\u001b[0;34m(\u001b[0m\u001b[0mfolding_scores\u001b[0m\u001b[0;34m)\u001b[0m\u001b[0;34m,\u001b[0m \u001b[0mmean\u001b[0m\u001b[0;34m(\u001b[0m\u001b[0mfolding_scores\u001b[0m\u001b[0;34m)\u001b[0m\u001b[0;34m)\u001b[0m\u001b[0;34m)\u001b[0m\u001b[0;34m\u001b[0m\u001b[0;34m\u001b[0m\u001b[0m\n\u001b[0m\u001b[1;32m      5\u001b[0m \u001b[0mprint\u001b[0m\u001b[0;34m(\u001b[0m\u001b[0;34m)\u001b[0m\u001b[0;34m\u001b[0m\u001b[0;34m\u001b[0m\u001b[0m\n\u001b[1;32m      6\u001b[0m \u001b[0my_pred\u001b[0m \u001b[0;34m=\u001b[0m \u001b[0mmax_model\u001b[0m\u001b[0;34m.\u001b[0m\u001b[0mpredict\u001b[0m\u001b[0;34m(\u001b[0m\u001b[0mX_test\u001b[0m\u001b[0;34m)\u001b[0m\u001b[0;34m\u001b[0m\u001b[0;34m\u001b[0m\u001b[0m\n",
      "\u001b[0;31mNameError\u001b[0m: name 'folding_scores' is not defined"
     ]
    }
   ],
   "source": [
    "from statistics import mean\n",
    "from sklearn.metrics import plot_confusion_matrix\n",
    "\n",
    "print(\"Maximum model accuracy: %s mean model accuracy: %s\" % (max(folding_scores), mean(folding_scores)))\n",
    "print()\n",
    "y_pred = max_model.predict(X_test)\n",
    "print(classification_report(y_test, y_pred))\n",
    "print()\n",
    "\n",
    "plot_confusion_matrix(max_model, X_test, y_test, display_labels=labels)"
   ]
  },
  {
   "cell_type": "code",
   "execution_count": null,
   "metadata": {},
   "outputs": [],
   "source": []
  }
 ],
 "metadata": {
  "kernelspec": {
   "display_name": "Python 3",
   "language": "python",
   "name": "python3"
  },
  "language_info": {
   "codemirror_mode": {
    "name": "ipython",
    "version": 3
   },
   "file_extension": ".py",
   "mimetype": "text/x-python",
   "name": "python",
   "nbconvert_exporter": "python",
   "pygments_lexer": "ipython3",
   "version": "3.8.5"
  }
 },
 "nbformat": 4,
 "nbformat_minor": 1
}
