{
 "cells": [
  {
   "cell_type": "markdown",
   "metadata": {
    "collapsed": true,
    "pycharm": {
     "name": "#%% md\n"
    }
   },
   "source": [
    "This reproduction study prerequisites that you have obtained a copy of the [ETC Corpus of Non-Native and Written English](https://catalog.ldc.upenn.edu/LDC2014T06).\n",
    "Proceed to download and set up dependencies by running `pip3 install -r requirements.txt`.\n",
    "Then execute this notebook."
   ]
  },
  {
   "cell_type": "code",
   "source": [
    "DATA_DIR = \"/home/fohlen/Documents/Bachelor/Data/ETS_Corpus_of_Non-Native_Written_English_LDC2014T06/ETS_Corpus_of_Non-Native_Written_English/data/text\"\n",
    "\n",
    "import requests\n",
    "import os\n",
    "from nltk import download\n",
    "\n",
    "# NLTK downloads\n",
    "download('punkt')\n",
    "download('averaged_perceptron_tagger')\n",
    "\n",
    "# Download the onix stopwords corpus (http://www.lextek.com/manuals/onix/stopwords1.html)\n",
    "onix_path = os.path.join(os.getcwd(), 'onix.txt')\n",
    "if not os.path.exists(onix_path):\n",
    "    print(\"Downloading to \" + onix_path)\n",
    "    url = 'https://raw.githubusercontent.com/igorbrigadir/stopwords/master/en/onix.txt'\n",
    "    r = requests.get(url, allow_redirects=True)\n",
    "    with open(onix_path, 'wb') as f:\n",
    "        f.write(r.content)"
   ],
   "metadata": {
    "collapsed": false,
    "pycharm": {
     "name": "#%%\n"
    }
   },
   "execution_count": 1,
   "outputs": [
    {
     "name": "stderr",
     "output_type": "stream",
     "text": [
      "[nltk_data] Downloading package punkt to /home/fohlen/nltk_data...\n",
      "[nltk_data]   Package punkt is already up-to-date!\n",
      "[nltk_data] Downloading package averaged_perceptron_tagger to\n",
      "[nltk_data]     /home/fohlen/nltk_data...\n",
      "[nltk_data]   Package averaged_perceptron_tagger is already up-to-\n",
      "[nltk_data]       date!\n"
     ]
    }
   ]
  },
  {
   "cell_type": "markdown",
   "source": [
    "Load datasets and vectorize test and training data."
   ],
   "metadata": {
    "collapsed": false
   }
  },
  {
   "cell_type": "code",
   "execution_count": 13,
   "outputs": [
    {
     "name": "stderr",
     "output_type": "stream",
     "text": [
      "Using custom data configuration default-0d2e219b700317ed\n",
      "Reusing dataset toef_l11 (/home/fohlen/.cache/huggingface/datasets/toef_l11/default-0d2e219b700317ed/0.0.0/bdabab2a1366fe9b74e89df1120d27eef5bc909b9c54ce78766eb5b7345f8d85)\n",
      "Using custom data configuration default-1647815034adb763\n",
      "Reusing dataset text (/home/fohlen/.cache/huggingface/datasets/text/default-1647815034adb763/0.0.0/e16f44aa1b321ece1f87b07977cc5d70be93d69b20486d6dacd62e12cf25c9a5)\n"
     ]
    }
   ],
   "source": [
    "from KopplVectorizer import KopplVectorizer\n",
    "from datasets import load_dataset\n",
    "from sklearn.model_selection import train_test_split\n",
    "import numpy as np\n",
    "\n",
    "# The actual training dataset is broken in the LDC which is why we fall back to a random split\n",
    "# It would be better to create a dedicated development set\n",
    "development = load_dataset('toefl11.py',\n",
    "    data_dir=DATA_DIR,\n",
    "    split='train[:10%]'\n",
    ")\n",
    "\n",
    "vectorizer = KopplVectorizer()\n",
    "X_train, X_test, y_train, y_test = train_test_split(development[\"Text\"], development[\"Language\"], test_size=0.33, random_state=42)\n",
    "labels = list(set(development[\"Language\"]))\n",
    "X_train = vectorizer.fit_transform(X_train)\n",
    "y_train = np.array([labels.index(language) for language in y_train])\n",
    "X_test = vectorizer.transform(X_test)\n",
    "y_test = np.array([labels.index(language) for language in y_test])"
   ],
   "metadata": {
    "collapsed": false,
    "pycharm": {
     "name": "#%%\n"
    }
   }
  },
  {
   "cell_type": "markdown",
   "source": [
    "Train a multi-class linear SVM according to Koppel et al.\n",
    "Optionally one could try retraining for different feature sets (see KopplVectorizer)."
   ],
   "metadata": {
    "collapsed": false
   }
  },
  {
   "cell_type": "code",
   "execution_count": 15,
   "outputs": [
    {
     "name": "stdout",
     "output_type": "stream",
     "text": [
      "# Tuning hyper-parameters for precision\n",
      "\n"
     ]
    },
    {
     "name": "stderr",
     "output_type": "stream",
     "text": [
      "/home/fohlen/Documents/Bachelor/koppl-reproduction/venv/lib/python3.8/site-packages/sklearn/metrics/_classification.py:1248: UndefinedMetricWarning: Precision is ill-defined and being set to 0.0 in labels with no predicted samples. Use `zero_division` parameter to control this behavior.\n",
      "  _warn_prf(average, modifier, msg_start, len(result))\n",
      "/home/fohlen/Documents/Bachelor/koppl-reproduction/venv/lib/python3.8/site-packages/sklearn/metrics/_classification.py:1248: UndefinedMetricWarning: Precision is ill-defined and being set to 0.0 in labels with no predicted samples. Use `zero_division` parameter to control this behavior.\n",
      "  _warn_prf(average, modifier, msg_start, len(result))\n",
      "/home/fohlen/Documents/Bachelor/koppl-reproduction/venv/lib/python3.8/site-packages/sklearn/metrics/_classification.py:1248: UndefinedMetricWarning: Precision is ill-defined and being set to 0.0 in labels with no predicted samples. Use `zero_division` parameter to control this behavior.\n",
      "  _warn_prf(average, modifier, msg_start, len(result))\n",
      "/home/fohlen/Documents/Bachelor/koppl-reproduction/venv/lib/python3.8/site-packages/sklearn/metrics/_classification.py:1248: UndefinedMetricWarning: Precision is ill-defined and being set to 0.0 in labels with no predicted samples. Use `zero_division` parameter to control this behavior.\n",
      "  _warn_prf(average, modifier, msg_start, len(result))\n",
      "/home/fohlen/Documents/Bachelor/koppl-reproduction/venv/lib/python3.8/site-packages/sklearn/metrics/_classification.py:1248: UndefinedMetricWarning: Precision is ill-defined and being set to 0.0 in labels with no predicted samples. Use `zero_division` parameter to control this behavior.\n",
      "  _warn_prf(average, modifier, msg_start, len(result))\n",
      "/home/fohlen/Documents/Bachelor/koppl-reproduction/venv/lib/python3.8/site-packages/sklearn/metrics/_classification.py:1248: UndefinedMetricWarning: Precision is ill-defined and being set to 0.0 in labels with no predicted samples. Use `zero_division` parameter to control this behavior.\n",
      "  _warn_prf(average, modifier, msg_start, len(result))\n",
      "/home/fohlen/Documents/Bachelor/koppl-reproduction/venv/lib/python3.8/site-packages/sklearn/metrics/_classification.py:1248: UndefinedMetricWarning: Precision is ill-defined and being set to 0.0 in labels with no predicted samples. Use `zero_division` parameter to control this behavior.\n",
      "  _warn_prf(average, modifier, msg_start, len(result))\n",
      "/home/fohlen/Documents/Bachelor/koppl-reproduction/venv/lib/python3.8/site-packages/sklearn/metrics/_classification.py:1248: UndefinedMetricWarning: Precision is ill-defined and being set to 0.0 in labels with no predicted samples. Use `zero_division` parameter to control this behavior.\n",
      "  _warn_prf(average, modifier, msg_start, len(result))\n"
     ]
    },
    {
     "name": "stdout",
     "output_type": "stream",
     "text": [
      "Best parameters set found on development set:\n",
      "\n",
      "{'C': 1000, 'kernel': 'rbf'}\n",
      "\n",
      "Grid scores on development set:\n",
      "\n",
      "0.295 (+/-0.068) for {'C': 100, 'kernel': 'rbf'}\n",
      "0.061 (+/-0.193) for {'C': 100, 'kernel': 'poly'}\n",
      "0.344 (+/-0.088) for {'C': 1000, 'kernel': 'rbf'}\n",
      "0.059 (+/-0.186) for {'C': 1000, 'kernel': 'poly'}\n",
      "\n",
      "Detailed classification report:\n",
      "\n",
      "The model is trained on the full development set.\n",
      "The scores are computed on the full evaluation set.\n",
      "\n",
      "              precision    recall  f1-score   support\n",
      "\n",
      "           0       0.34      0.39      0.37        33\n",
      "           1       0.29      0.36      0.32        28\n",
      "           2       0.32      0.21      0.26        28\n",
      "           3       0.29      0.37      0.32        27\n",
      "           4       0.29      0.42      0.34        24\n",
      "           5       0.48      0.29      0.36        35\n",
      "           6       0.48      0.42      0.45        36\n",
      "           7       0.22      0.15      0.18        33\n",
      "           8       0.28      0.24      0.26        29\n",
      "           9       0.44      0.55      0.49        22\n",
      "          10       0.36      0.44      0.39        32\n",
      "\n",
      "    accuracy                           0.34       327\n",
      "   macro avg       0.34      0.35      0.34       327\n",
      "weighted avg       0.35      0.34      0.34       327\n",
      "\n",
      "\n",
      "# Tuning hyper-parameters for recall\n",
      "\n",
      "Best parameters set found on development set:\n",
      "\n",
      "{'C': 1000, 'kernel': 'rbf'}\n",
      "\n",
      "Grid scores on development set:\n",
      "\n",
      "0.268 (+/-0.040) for {'C': 100, 'kernel': 'rbf'}\n",
      "0.127 (+/-0.145) for {'C': 100, 'kernel': 'poly'}\n",
      "0.334 (+/-0.068) for {'C': 1000, 'kernel': 'rbf'}\n",
      "0.123 (+/-0.129) for {'C': 1000, 'kernel': 'poly'}\n",
      "\n",
      "Detailed classification report:\n",
      "\n",
      "The model is trained on the full development set.\n",
      "The scores are computed on the full evaluation set.\n",
      "\n",
      "              precision    recall  f1-score   support\n",
      "\n",
      "           0       0.34      0.39      0.37        33\n",
      "           1       0.29      0.36      0.32        28\n",
      "           2       0.32      0.21      0.26        28\n",
      "           3       0.29      0.37      0.32        27\n",
      "           4       0.29      0.42      0.34        24\n",
      "           5       0.48      0.29      0.36        35\n",
      "           6       0.48      0.42      0.45        36\n",
      "           7       0.22      0.15      0.18        33\n",
      "           8       0.28      0.24      0.26        29\n",
      "           9       0.44      0.55      0.49        22\n",
      "          10       0.36      0.44      0.39        32\n",
      "\n",
      "    accuracy                           0.34       327\n",
      "   macro avg       0.34      0.35      0.34       327\n",
      "weighted avg       0.35      0.34      0.34       327\n",
      "\n",
      "\n"
     ]
    }
   ],
   "source": [
    "from sklearn.model_selection import GridSearchCV\n",
    "from sklearn.metrics import classification_report\n",
    "from sklearn.svm import SVC\n",
    "\n",
    "tuned_parameters = [\n",
    "    {'kernel': ['rbf', 'poly'], 'C': [100, 1000]},\n",
    "]\n",
    "\n",
    "scores = ['precision', 'recall']\n",
    "\n",
    "for score in scores:\n",
    "    print(\"# Tuning hyper-parameters for %s\" % score)\n",
    "    print()\n",
    "\n",
    "    clf = GridSearchCV(\n",
    "        SVC(), tuned_parameters, scoring='%s_macro' % score\n",
    "    )\n",
    "    clf.fit(X_train, y_train)\n",
    "\n",
    "    print(\"Best parameters set found on development set:\")\n",
    "    print()\n",
    "    print(clf.best_params_)\n",
    "    print()\n",
    "    print(\"Grid scores on development set:\")\n",
    "    print()\n",
    "    means = clf.cv_results_['mean_test_score']\n",
    "    stds = clf.cv_results_['std_test_score']\n",
    "    for mean, std, params in zip(means, stds, clf.cv_results_['params']):\n",
    "        print(\"%0.3f (+/-%0.03f) for %r\"\n",
    "              % (mean, std * 2, params))\n",
    "    print()\n",
    "\n",
    "    print(\"Detailed classification report:\")\n",
    "    print()\n",
    "    print(\"The model is trained on the full development set.\")\n",
    "    print(\"The scores are computed on the full evaluation set.\")\n",
    "    print()\n",
    "    y_true, y_pred = y_test, clf.predict(X_test)\n",
    "    print(classification_report(y_true, y_pred))\n",
    "    print()"
   ],
   "metadata": {
    "collapsed": false,
    "pycharm": {
     "name": "#%%\n"
    }
   }
  },
  {
   "cell_type": "markdown",
   "source": [
    "Perform 10 fold cross-validation as described in Koppl et al."
   ],
   "metadata": {
    "collapsed": false
   }
  },
  {
   "cell_type": "code",
   "execution_count": 18,
   "outputs": [
    {
     "name": "stderr",
     "output_type": "stream",
     "text": [
      "Using custom data configuration default-0d2e219b700317ed\n",
      "Reusing dataset toef_l11 (/home/fohlen/.cache/huggingface/datasets/toef_l11/default-0d2e219b700317ed/0.0.0/bdabab2a1366fe9b74e89df1120d27eef5bc909b9c54ce78766eb5b7345f8d85)\n",
      "Using custom data configuration default-0d2e219b700317ed\n",
      "Reusing dataset toef_l11 (/home/fohlen/.cache/huggingface/datasets/toef_l11/default-0d2e219b700317ed/0.0.0/bdabab2a1366fe9b74e89df1120d27eef5bc909b9c54ce78766eb5b7345f8d85)\n"
     ]
    }
   ],
   "source": [
    "from statistics import mean\n",
    "from sklearn.metrics import accuracy_score, confusion_matrix\n",
    "\n",
    "vals_ds = load_dataset('toefl11.py',\n",
    "    data_dir=DATA_DIR,\n",
    "    split=[\n",
    "        f'validation[{k}%:{k+10}%]' for k in range(0, 100, 10)\n",
    "    ]\n",
    ")\n",
    "trains_ds = load_dataset('toefl11.py',\n",
    "    data_dir=DATA_DIR,\n",
    "    split=[\n",
    "        f'train[:{k}%]+train[{k+10}%:]' for k in range(0, 100, 10)\n",
    "    ]\n",
    ")\n",
    "\n",
    "scores = []\n",
    "max_predict = None\n",
    "\n",
    "for val_ds, train_ds in zip(vals_ds, trains_ds):\n",
    "    X_train, X_test = vectorizer.transform(train_ds[\"Text\"]), vectorizer.transform(val_ds[\"Text\"])\n",
    "    y_train, y_test = np.array([labels.index(language) for language in train_ds[\"Language\"]]), np.array([labels.index(language) for language in val_ds[\"Language\"]])\n",
    "    model = SVC(kernel='rbf', C=1000)\n",
    "    model.fit(X_train, y_train)\n",
    "    y_predict = model.predict(X_test)\n",
    "    score = accuracy_score(y_test, y_predict)\n",
    "    if score > max(scores):\n",
    "        max_predict = y_predict, y_test\n",
    "    scores.append(score)\n",
    "\n",
    "print(\"Maximum accuracy:\" + max(scores) + \" mean accuracy: \" + mean(scores))\n",
    "print(confusion_matrix(*max_predict, labels=labels))"
   ],
   "metadata": {
    "collapsed": false,
    "pycharm": {
     "name": "#%%\n"
    }
   }
  }
 ],
 "metadata": {
  "kernelspec": {
   "display_name": "Python 3",
   "language": "python",
   "name": "python3"
  },
  "language_info": {
   "codemirror_mode": {
    "name": "ipython",
    "version": 2
   },
   "file_extension": ".py",
   "mimetype": "text/x-python",
   "name": "python",
   "nbconvert_exporter": "python",
   "pygments_lexer": "ipython2",
   "version": "2.7.6"
  }
 },
 "nbformat": 4,
 "nbformat_minor": 0
}